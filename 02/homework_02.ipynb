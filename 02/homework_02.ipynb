{
 "cells": [
  {
   "cell_type": "markdown",
   "id": "b7590b60",
   "metadata": {},
   "source": [
    "# Homework 02 - MLZoomcamp 2023"
   ]
  },
  {
   "cell_type": "code",
   "execution_count": 1,
   "id": "b6ce4905",
   "metadata": {},
   "outputs": [
    {
     "name": "stdout",
     "output_type": "stream",
     "text": [
      "--2023-09-25 16:43:08--  http://wget/\n",
      "Resolving wget (wget)... failed: Temporary failure in name resolution.\n",
      "wget: unable to resolve host address ‘wget’\n",
      "--2023-09-25 16:43:08--  https://raw.githubusercontent.com/alexeygrigorev/datasets/master/housing.csv\n",
      "Resolving raw.githubusercontent.com (raw.githubusercontent.com)... 185.199.110.133, 185.199.109.133, 185.199.111.133, ...\n",
      "Connecting to raw.githubusercontent.com (raw.githubusercontent.com)|185.199.110.133|:443... connected.\n",
      "HTTP request sent, awaiting response... 200 OK\n",
      "Length: 1423529 (1.4M) [text/plain]\n",
      "Saving to: ‘housing.csv’\n",
      "\n",
      "housing.csv         100%[===================>]   1.36M  2.39MB/s    in 0.6s    \n",
      "\n",
      "2023-09-25 16:43:10 (2.39 MB/s) - ‘housing.csv’ saved [1423529/1423529]\n",
      "\n",
      "FINISHED --2023-09-25 16:43:10--\n",
      "Total wall clock time: 1.7s\n",
      "Downloaded: 1 files, 1.4M in 0.6s (2.39 MB/s)\n"
     ]
    }
   ],
   "source": [
    "!wget wget https://raw.githubusercontent.com/alexeygrigorev/datasets/master/housing.csv"
   ]
  },
  {
   "cell_type": "code",
   "execution_count": 241,
   "id": "daac040d",
   "metadata": {},
   "outputs": [],
   "source": [
    "from matplotlib.style import use\n",
    "\n",
    "import matplotlib.pyplot as plt\n",
    "import numpy as np\n",
    "import pandas as pd\n",
    "\n",
    "use('seaborn-v0_8')\n",
    "%matplotlib inline"
   ]
  },
  {
   "cell_type": "markdown",
   "id": "b539c23a",
   "metadata": {},
   "source": [
    "## EDA"
   ]
  },
  {
   "cell_type": "code",
   "execution_count": 242,
   "id": "f6fea977",
   "metadata": {},
   "outputs": [],
   "source": [
    "df = pd.read_csv('housing.csv')"
   ]
  },
  {
   "cell_type": "code",
   "execution_count": 243,
   "id": "0f659c95",
   "metadata": {},
   "outputs": [
    {
     "name": "stdout",
     "output_type": "stream",
     "text": [
      "<class 'pandas.core.frame.DataFrame'>\n",
      "RangeIndex: 20640 entries, 0 to 20639\n",
      "Data columns (total 10 columns):\n",
      " #   Column              Non-Null Count  Dtype  \n",
      "---  ------              --------------  -----  \n",
      " 0   longitude           20640 non-null  float64\n",
      " 1   latitude            20640 non-null  float64\n",
      " 2   housing_median_age  20640 non-null  float64\n",
      " 3   total_rooms         20640 non-null  float64\n",
      " 4   total_bedrooms      20433 non-null  float64\n",
      " 5   population          20640 non-null  float64\n",
      " 6   households          20640 non-null  float64\n",
      " 7   median_income       20640 non-null  float64\n",
      " 8   median_house_value  20640 non-null  float64\n",
      " 9   ocean_proximity     20640 non-null  object \n",
      "dtypes: float64(9), object(1)\n",
      "memory usage: 1.6+ MB\n"
     ]
    }
   ],
   "source": [
    "df.info()"
   ]
  },
  {
   "cell_type": "code",
   "execution_count": 244,
   "id": "a6876583",
   "metadata": {},
   "outputs": [
    {
     "data": {
      "image/png": "[encoded data removed]",
      "text/plain": [
       "<Figure size 800x550 with 1 Axes>"
      ]
     },
     "metadata": {},
     "output_type": "display_data"
    }
   ],
   "source": [
    "plt.hist(df.median_house_value, bins=50)\n",
    "plt.title('distribution of prices.')\n",
    "plt.xlabel('median_house_value')\n",
    "plt.ylabel('Count')\n",
    "plt.show()"
   ]
  },
  {
   "cell_type": "markdown",
   "id": "01c57195",
   "metadata": {},
   "source": [
    "## Preparing the dataset"
   ]
  },
  {
   "cell_type": "code",
   "execution_count": 245,
   "id": "67405ea6",
   "metadata": {},
   "outputs": [
    {
     "name": "stdout",
     "output_type": "stream",
     "text": [
      "<class 'pandas.core.frame.DataFrame'>\n",
      "RangeIndex: 20640 entries, 0 to 20639\n",
      "Data columns (total 10 columns):\n",
      " #   Column              Non-Null Count  Dtype  \n",
      "---  ------              --------------  -----  \n",
      " 0   longitude           20640 non-null  float64\n",
      " 1   latitude            20640 non-null  float64\n",
      " 2   housing_median_age  20640 non-null  float64\n",
      " 3   total_rooms         20640 non-null  float64\n",
      " 4   total_bedrooms      20433 non-null  float64\n",
      " 5   population          20640 non-null  float64\n",
      " 6   households          20640 non-null  float64\n",
      " 7   median_income       20640 non-null  float64\n",
      " 8   median_house_value  20640 non-null  float64\n",
      " 9   ocean_proximity     20640 non-null  object \n",
      "dtypes: float64(9), object(1)\n",
      "memory usage: 1.6+ MB\n"
     ]
    }
   ],
   "source": [
    "df.info()"
   ]
  },
  {
   "cell_type": "code",
   "execution_count": 246,
   "id": "66e5332b",
   "metadata": {},
   "outputs": [],
   "source": [
    "new_df = df[df.ocean_proximity.isin(['<1H OCEAN', 'INLAND'])]"
   ]
  },
  {
   "cell_type": "code",
   "execution_count": 247,
   "id": "582cb430",
   "metadata": {},
   "outputs": [],
   "source": [
    "new_df = new_df[['latitude', 'longitude', 'housing_median_age', 'total_rooms', 'total_bedrooms', 'population', 'households', 'median_income', 'median_house_value']]"
   ]
  },
  {
   "cell_type": "markdown",
   "id": "00b40bd6",
   "metadata": {},
   "source": [
    "## Question 01"
   ]
  },
  {
   "cell_type": "code",
   "execution_count": 248,
   "id": "b0eb869c",
   "metadata": {},
   "outputs": [
    {
     "data": {
      "text/plain": [
       "latitude                0\n",
       "longitude               0\n",
       "housing_median_age      0\n",
       "total_rooms             0\n",
       "total_bedrooms        157\n",
       "population              0\n",
       "households              0\n",
       "median_income           0\n",
       "median_house_value      0\n",
       "dtype: int64"
      ]
     },
     "execution_count": 248,
     "metadata": {},
     "output_type": "execute_result"
    }
   ],
   "source": [
    "new_df.isnull().sum()"
   ]
  },
  {
   "cell_type": "markdown",
   "id": "3db843f5",
   "metadata": {},
   "source": [
    "## Question 02"
   ]
  },
  {
   "cell_type": "code",
   "execution_count": 249,
   "id": "da7c4be9",
   "metadata": {},
   "outputs": [
    {
     "data": {
      "text/plain": [
       "count    15687.000000\n",
       "mean      1466.317205\n",
       "std       1180.389908\n",
       "min          3.000000\n",
       "25%        802.000000\n",
       "50%       1195.000000\n",
       "75%       1777.000000\n",
       "max      35682.000000\n",
       "Name: population, dtype: float64"
      ]
     },
     "execution_count": 249,
     "metadata": {},
     "output_type": "execute_result"
    }
   ],
   "source": [
    "new_df.population.describe()"
   ]
  },
  {
   "cell_type": "markdown",
   "id": "51fe9b26",
   "metadata": {},
   "source": [
    "## Prepare and split the dataset"
   ]
  },
  {
   "cell_type": "code",
   "execution_count": 250,
   "id": "3bbf4268",
   "metadata": {},
   "outputs": [
    {
     "name": "stdout",
     "output_type": "stream",
     "text": [
      "Number of training samples: 9413\n",
      "Number of validation samples: 3137\n",
      "Number of testing samples: 3137\n"
     ]
    }
   ],
   "source": [
    "n_samples = len(new_df)\n",
    "n_val = int(len(new_df) * 0.2)\n",
    "n_test = int(len(new_df) * 0.2)\n",
    "n_train = n_samples - (n_val + n_test)\n",
    "\n",
    "print(f'Number of training samples: {n_train}')\n",
    "print(f'Number of validation samples: {n_val}')\n",
    "print(f'Number of testing samples: {n_test}')"
   ]
  },
  {
   "cell_type": "code",
   "execution_count": 251,
   "id": "e2cb86cd",
   "metadata": {},
   "outputs": [],
   "source": [
    "idx = np.arange(n_samples)\n",
    "np.random.seed(42)\n",
    "np.random.shuffle(idx)"
   ]
  },
  {
   "cell_type": "code",
   "execution_count": 252,
   "id": "46936b4a",
   "metadata": {},
   "outputs": [],
   "source": [
    "df_val = new_df.iloc[idx[:n_val]]\n",
    "df_test = new_df.iloc[idx[n_val:n_val + n_test]]\n",
    "df_train = new_df.iloc[idx[n_val + n_test:]]"
   ]
  },
  {
   "cell_type": "code",
   "execution_count": 253,
   "id": "0672c050",
   "metadata": {},
   "outputs": [
    {
     "data": {
      "text/plain": [
       "(9413, 3137, 3137)"
      ]
     },
     "execution_count": 253,
     "metadata": {},
     "output_type": "execute_result"
    }
   ],
   "source": [
    "len(df_train), len(df_val), len(df_test)"
   ]
  },
  {
   "cell_type": "code",
   "execution_count": 254,
   "id": "2e2c2ddd",
   "metadata": {},
   "outputs": [],
   "source": [
    "df_train = df_train.reset_index(drop=True)\n",
    "df_val = df_val.reset_index(drop=True)\n",
    "df_test = df_test.reset_index(drop=True)"
   ]
  },
  {
   "cell_type": "code",
   "execution_count": 255,
   "id": "a6201db2",
   "metadata": {},
   "outputs": [
    {
     "data": {
      "text/plain": [
       "0       115600.0\n",
       "1       307100.0\n",
       "2       312500.0\n",
       "3       230600.0\n",
       "4        64400.0\n",
       "          ...   \n",
       "9408    500001.0\n",
       "9409    268400.0\n",
       "9410    234400.0\n",
       "9411     83400.0\n",
       "9412    270400.0\n",
       "Name: median_house_value, Length: 9413, dtype: float64"
      ]
     },
     "execution_count": 255,
     "metadata": {},
     "output_type": "execute_result"
    }
   ],
   "source": [
    "df_train.median_house_value"
   ]
  },
  {
   "cell_type": "code",
   "execution_count": 256,
   "id": "afc4144b",
   "metadata": {},
   "outputs": [],
   "source": [
    "df_train['median_house_value'] = np.log1p(df_train.median_house_value)\n",
    "df_val['median_house_value'] = np.log1p(df_val.median_house_value)\n",
    "df_test['median_house_value'] = np.log1p(df_test.median_house_value)"
   ]
  },
  {
   "cell_type": "code",
   "execution_count": 257,
   "id": "adaeb199",
   "metadata": {},
   "outputs": [],
   "source": [
    "y_train = df_train.median_house_value.values\n",
    "y_val = df_val.median_house_value.values\n",
    "y_test = df_test.median_house_value.values"
   ]
  },
  {
   "cell_type": "code",
   "execution_count": 258,
   "id": "74c6fdf6",
   "metadata": {},
   "outputs": [],
   "source": [
    "del df_train['median_house_value']\n",
    "del df_val['median_house_value']\n",
    "del df_test['median_house_value']"
   ]
  },
  {
   "cell_type": "markdown",
   "id": "86ebcb55",
   "metadata": {},
   "source": [
    "## Question 03"
   ]
  },
  {
   "cell_type": "code",
   "execution_count": 259,
   "id": "17a562d4",
   "metadata": {},
   "outputs": [],
   "source": [
    "def train_linear_regression(X, y):\n",
    "    ones = np.ones(X.shape[0])\n",
    "    X = np.column_stack([ones, X])\n",
    "\n",
    "    XTX = X.T.dot(X)\n",
    "    XTX_inv = np.linalg.inv(XTX)\n",
    "    w = XTX_inv.dot(X.T).dot(y)\n",
    "    \n",
    "    return w[0], w[1:]"
   ]
  },
  {
   "cell_type": "code",
   "execution_count": 260,
   "id": "72937474",
   "metadata": {},
   "outputs": [],
   "source": [
    "def rmse(y, y_pred):\n",
    "    error = y_pred - y\n",
    "    mse = (error ** 2).mean()\n",
    "    return np.sqrt(mse)"
   ]
  },
  {
   "cell_type": "markdown",
   "id": "2bc1c365",
   "metadata": {},
   "source": [
    "### Missing values replaced with value 0."
   ]
  },
  {
   "cell_type": "code",
   "execution_count": 261,
   "id": "661bc1a2",
   "metadata": {},
   "outputs": [
    {
     "data": {
      "text/plain": [
       "latitude               0\n",
       "longitude              0\n",
       "housing_median_age     0\n",
       "total_rooms            0\n",
       "total_bedrooms        95\n",
       "population             0\n",
       "households             0\n",
       "median_income          0\n",
       "dtype: int64"
      ]
     },
     "execution_count": 261,
     "metadata": {},
     "output_type": "execute_result"
    }
   ],
   "source": [
    "df_train.isnull().sum()"
   ]
  },
  {
   "cell_type": "code",
   "execution_count": 262,
   "id": "75f61910",
   "metadata": {},
   "outputs": [],
   "source": [
    "df_train_zero = df_train.fillna(value=0)"
   ]
  },
  {
   "cell_type": "code",
   "execution_count": 263,
   "id": "09a9c0f5",
   "metadata": {},
   "outputs": [
    {
     "data": {
      "text/plain": [
       "latitude              0\n",
       "longitude             0\n",
       "housing_median_age    0\n",
       "total_rooms           0\n",
       "total_bedrooms        0\n",
       "population            0\n",
       "households            0\n",
       "median_income         0\n",
       "dtype: int64"
      ]
     },
     "execution_count": 263,
     "metadata": {},
     "output_type": "execute_result"
    }
   ],
   "source": [
    "df_train_zero.isnull().sum()"
   ]
  },
  {
   "cell_type": "code",
   "execution_count": 264,
   "id": "c189cd41",
   "metadata": {},
   "outputs": [],
   "source": [
    "w_0, w = train_linear_regression(df_train_zero.values, y_train)"
   ]
  },
  {
   "cell_type": "code",
   "execution_count": 265,
   "id": "cf893e0e",
   "metadata": {},
   "outputs": [],
   "source": [
    "df_val_zero = df_val.fillna(value=0)"
   ]
  },
  {
   "cell_type": "code",
   "execution_count": 266,
   "id": "69197ee9",
   "metadata": {},
   "outputs": [],
   "source": [
    "y_pred_01 = w_0 + df_val_zero.values.dot(w)"
   ]
  },
  {
   "cell_type": "code",
   "execution_count": 267,
   "id": "1b14dd46",
   "metadata": {},
   "outputs": [
    {
     "data": {
      "text/plain": [
       "0.34"
      ]
     },
     "execution_count": 267,
     "metadata": {},
     "output_type": "execute_result"
    }
   ],
   "source": [
    "rmse_val_01 = rmse(y_val, y_pred_01)\n",
    "rmse_val_01 = round(rmse_val_01, 2)\n",
    "rmse_val_01"
   ]
  },
  {
   "cell_type": "markdown",
   "id": "08c8022b",
   "metadata": {},
   "source": [
    "### Missing values replaced with the mean"
   ]
  },
  {
   "cell_type": "code",
   "execution_count": 268,
   "id": "124aa35d",
   "metadata": {},
   "outputs": [],
   "source": [
    "total_bedrooms_mean = df_train.total_bedrooms.mean()\n",
    "df_train_total_bedrooms = df_train.fillna(value=total_bedrooms_mean)"
   ]
  },
  {
   "cell_type": "code",
   "execution_count": 269,
   "id": "7a8d79ea",
   "metadata": {},
   "outputs": [
    {
     "data": {
      "text/plain": [
       "latitude              0\n",
       "longitude             0\n",
       "housing_median_age    0\n",
       "total_rooms           0\n",
       "total_bedrooms        0\n",
       "population            0\n",
       "households            0\n",
       "median_income         0\n",
       "dtype: int64"
      ]
     },
     "execution_count": 269,
     "metadata": {},
     "output_type": "execute_result"
    }
   ],
   "source": [
    "df_train_total_bedrooms.isnull().sum()"
   ]
  },
  {
   "cell_type": "code",
   "execution_count": 270,
   "id": "c30f2400",
   "metadata": {},
   "outputs": [],
   "source": [
    "w_0, w = train_linear_regression(df_train_total_bedrooms.values, y_train)"
   ]
  },
  {
   "cell_type": "code",
   "execution_count": 271,
   "id": "afc7bff3",
   "metadata": {},
   "outputs": [],
   "source": [
    "df_val_total_bedrooms = df_val.fillna(value=total_bedrooms_mean)"
   ]
  },
  {
   "cell_type": "code",
   "execution_count": 272,
   "id": "e0177e96",
   "metadata": {},
   "outputs": [],
   "source": [
    "y_pred_02 = w_0 + df_val_total_bedrooms.values.dot(w)"
   ]
  },
  {
   "cell_type": "code",
   "execution_count": 273,
   "id": "1742af06",
   "metadata": {},
   "outputs": [
    {
     "data": {
      "text/plain": [
       "0.34"
      ]
     },
     "execution_count": 273,
     "metadata": {},
     "output_type": "execute_result"
    }
   ],
   "source": [
    "rmse_val_02 = rmse(y_val, y_pred_02)\n",
    "rmse_val_02 = round(rmse_val_02, 2)\n",
    "rmse_val_02"
   ]
  },
  {
   "cell_type": "markdown",
   "id": "8d218763",
   "metadata": {},
   "source": [
    "## Question 04"
   ]
  },
  {
   "cell_type": "code",
   "execution_count": 274,
   "id": "66470911",
   "metadata": {},
   "outputs": [],
   "source": [
    "def train_linear_regression_reg(X, y, r=0.0):\n",
    "    ones = np.ones(X.shape[0])\n",
    "    X = np.column_stack([ones, X])\n",
    "\n",
    "    XTX = X.T.dot(X)\n",
    "    reg = r * np.eye(XTX.shape[0])\n",
    "    XTX = XTX + reg\n",
    "\n",
    "    XTX_inv = np.linalg.inv(XTX)\n",
    "    w = XTX_inv.dot(X.T).dot(y)\n",
    "    \n",
    "    return w[0], w[1:]"
   ]
  },
  {
   "cell_type": "code",
   "execution_count": 275,
   "id": "9b58b983",
   "metadata": {},
   "outputs": [
    {
     "name": "stdout",
     "output_type": "stream",
     "text": [
      "Number of training samples: 9413\n",
      "Number of validation samples: 3137\n",
      "Number of testing samples: 3137\n"
     ]
    }
   ],
   "source": [
    "n_samples = len(new_df)\n",
    "n_val = int(len(new_df) * 0.2)\n",
    "n_test = int(len(new_df) * 0.2)\n",
    "n_train = n_samples - (n_val + n_test)\n",
    "\n",
    "print(f'Number of training samples: {n_train}')\n",
    "print(f'Number of validation samples: {n_val}')\n",
    "print(f'Number of testing samples: {n_test}')"
   ]
  },
  {
   "cell_type": "code",
   "execution_count": 284,
   "id": "b78c4094",
   "metadata": {},
   "outputs": [],
   "source": [
    "r = [0, 0.000001, 0.0001, 0.001, 0.01, 0.1, 1, 5, 10]\n",
    "rmse_scores = []\n",
    "\n",
    "idx = np.arange(n_samples)\n",
    "np.random.seed(42)\n",
    "np.random.shuffle(idx)\n",
    "    \n",
    "df_val = new_df.iloc[idx[:n_val]]\n",
    "df_test = new_df.iloc[idx[n_val:n_val + n_test]]\n",
    "df_train = new_df.iloc[idx[n_val + n_test:]]\n",
    "    \n",
    "df_train = df_train.reset_index(drop=True)\n",
    "df_val = df_val.reset_index(drop=True)\n",
    "df_test = df_test.reset_index(drop=True)\n",
    "    \n",
    "y_train = np.log1p(df_train.median_house_value)\n",
    "y_val = np.log1p(df_val.median_house_value)\n",
    "y_test = np.log1p(df_test.median_house_value)\n",
    "    \n",
    "del df_train['median_house_value']\n",
    "del df_val['median_house_value']\n",
    "del df_test['median_house_value']\n",
    "    \n",
    "df_train = df_train.fillna(value=0)\n",
    "df_val = df_val.fillna(value=0)\n",
    "    \n",
    "for seed_value in r:\n",
    "    w_0, w = train_linear_regression_reg(df_train.values, y_train, r)\n",
    "    y_pred = w_0 + df_val.values.dot(w)\n",
    "    \n",
    "    rmse_val = rmse(y_val, y_pred)\n",
    "    rmse_val = round(rmse_val, 2)\n",
    "    rmse_scores.append(rmse_val)"
   ]
  },
  {
   "cell_type": "code",
   "execution_count": 285,
   "id": "7f841b7c",
   "metadata": {},
   "outputs": [
    {
     "data": {
      "text/plain": [
       "[0.34, 0.34, 0.34, 0.34, 0.34, 0.34, 0.34, 0.34, 0.34]"
      ]
     },
     "execution_count": 285,
     "metadata": {},
     "output_type": "execute_result"
    }
   ],
   "source": [
    "rmse_scores"
   ]
  },
  {
   "cell_type": "markdown",
   "id": "ebd5f910",
   "metadata": {},
   "source": [
    "## Question 05"
   ]
  },
  {
   "cell_type": "code",
   "execution_count": 288,
   "id": "cd08cdb5",
   "metadata": {},
   "outputs": [],
   "source": [
    "seed = [0, 1, 2, 3, 4, 5, 6, 7, 8, 9]\n",
    "rmse_scores = []\n",
    "\n",
    "for seed_value in seeds:\n",
    "    idx = np.arange(n_samples)\n",
    "    np.random.seed(seed_value)\n",
    "    np.random.shuffle(idx)\n",
    "    \n",
    "    df_val = new_df.iloc[idx[:n_val]]\n",
    "    df_test = new_df.iloc[idx[n_val:n_val + n_test]]\n",
    "    df_train = new_df.iloc[idx[n_val + n_test:]]\n",
    "    \n",
    "    df_train = df_train.reset_index(drop=True)\n",
    "    df_val = df_val.reset_index(drop=True)\n",
    "    df_test = df_test.reset_index(drop=True)\n",
    "    \n",
    "    y_train = np.log1p(df_train.median_house_value)\n",
    "    y_val = np.log1p(df_val.median_house_value)\n",
    "    y_test = np.log1p(df_test.median_house_value)\n",
    "    \n",
    "    del df_train['median_house_value']\n",
    "    del df_val['median_house_value']\n",
    "    del df_test['median_house_value']\n",
    "    \n",
    "    df_train = df_train.fillna(value=0)\n",
    "    w_0, w = train_linear_regression_reg(df_train.values, y_train)\n",
    "    \n",
    "    df_val = df_val.fillna(value=0)\n",
    "    \n",
    "    y_pred = w_0 + df_val.values.dot(w)\n",
    "    \n",
    "    rmse_val = rmse(y_val, y_pred)\n",
    "    rmse_val = round(rmse_val, 2)\n",
    "    rmse_scores.append(rmse_val)"
   ]
  },
  {
   "cell_type": "code",
   "execution_count": 289,
   "id": "e582c8c9",
   "metadata": {},
   "outputs": [
    {
     "data": {
      "text/plain": [
       "0.008"
      ]
     },
     "execution_count": 289,
     "metadata": {},
     "output_type": "execute_result"
    }
   ],
   "source": [
    "std = np.std(rmse_scores)\n",
    "std = round(std, 3)\n",
    "std"
   ]
  },
  {
   "cell_type": "code",
   "execution_count": null,
   "id": "5e9ad8b7",
   "metadata": {},
   "outputs": [],
   "source": []
  }
 ],
 "metadata": {
  "kernelspec": {
   "display_name": "Python 3 (ipykernel)",
   "language": "python",
   "name": "python3"
  },
  "language_info": {
   "codemirror_mode": {
    "name": "ipython",
    "version": 3
   },
   "file_extension": ".py",
   "mimetype": "text/x-python",
   "name": "python",
   "nbconvert_exporter": "python",
   "pygments_lexer": "ipython3",
   "version": "3.10.12"
  }
 },
 "nbformat": 4,
 "nbformat_minor": 5
}
