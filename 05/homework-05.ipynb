{
 "cells": [
  {
   "cell_type": "markdown",
   "id": "93c04b47-8f64-4e0a-bc1a-403cd02cfcc1",
   "metadata": {},
   "source": [
    "# Homework 05"
   ]
  },
  {
   "cell_type": "markdown",
   "id": "40d0bfbe-aa70-48a0-a6eb-4ffbac95e404",
   "metadata": {},
   "source": [
    "## Question 1"
   ]
  },
  {
   "cell_type": "code",
   "execution_count": 1,
   "id": "53e332d8-5578-49a7-bca3-9cb1731e51ed",
   "metadata": {
    "scrolled": true
   },
   "outputs": [
    {
     "name": "stdout",
     "output_type": "stream",
     "text": [
      "Defaulting to user installation because normal site-packages is not writeable\n",
      "Requirement already satisfied: pipenv in /home/rbc-laptop/.local/lib/python3.10/site-packages (2023.10.3)\n",
      "Requirement already satisfied: certifi in /usr/lib/python3/dist-packages (from pipenv) (2020.6.20)\n",
      "Requirement already satisfied: setuptools>=67 in /home/rbc-laptop/.local/lib/python3.10/site-packages (from pipenv) (67.6.1)\n",
      "Requirement already satisfied: virtualenv>=20.24.2 in /home/rbc-laptop/.local/lib/python3.10/site-packages (from pipenv) (20.24.5)\n",
      "Requirement already satisfied: distlib<1,>=0.3.7 in /home/rbc-laptop/.local/lib/python3.10/site-packages (from virtualenv>=20.24.2->pipenv) (0.3.7)\n",
      "Requirement already satisfied: filelock<4,>=3.12.2 in /home/rbc-laptop/.local/lib/python3.10/site-packages (from virtualenv>=20.24.2->pipenv) (3.12.4)\n",
      "Requirement already satisfied: platformdirs<4,>=3.9.1 in /home/rbc-laptop/.local/lib/python3.10/site-packages (from virtualenv>=20.24.2->pipenv) (3.11.0)\n",
      "\n",
      "\u001b[1m[\u001b[0m\u001b[34;49mnotice\u001b[0m\u001b[1;39;49m]\u001b[0m\u001b[39;49m A new release of pip is available: \u001b[0m\u001b[31;49m23.2.1\u001b[0m\u001b[39;49m -> \u001b[0m\u001b[32;49m23.3\u001b[0m\n",
      "\u001b[1m[\u001b[0m\u001b[34;49mnotice\u001b[0m\u001b[1;39;49m]\u001b[0m\u001b[39;49m To update, run: \u001b[0m\u001b[32;49mpython3 -m pip install --upgrade pip\u001b[0m\n"
     ]
    }
   ],
   "source": [
    "!pip3 install pipenv"
   ]
  },
  {
   "cell_type": "code",
   "execution_count": 2,
   "id": "f7bee313-a97d-482e-bd2b-4ee0a4430f9d",
   "metadata": {},
   "outputs": [
    {
     "name": "stdout",
     "output_type": "stream",
     "text": [
      "\u001b[1mpipenv\u001b[0m, version 2023.10.3\n"
     ]
    }
   ],
   "source": [
    "!pipenv --version"
   ]
  },
  {
   "cell_type": "markdown",
   "id": "bbe72db9-131e-460c-aca4-0c4e082e22d2",
   "metadata": {},
   "source": [
    "## Question 2"
   ]
  },
  {
   "cell_type": "code",
   "execution_count": null,
   "id": "1db390ce-f60a-403a-8e9a-0a3de147ba0a",
   "metadata": {},
   "outputs": [
    {
     "name": "stdout",
     "output_type": "stream",
     "text": [
      "\u001b[1mCreating a virtualenv for this project...\u001b[0m\n",
      "Pipfile: \u001b[33m\u001b[1m/home/rbc-laptop/Projects/Courses/mlzoomcamp/05/Pipfile\u001b[0m\n",
      "\u001b[1mUsing default python from\u001b[0m \u001b[33m\u001b[1m/usr/bin/python3\u001b[0m \u001b[32m(3.10.12)\u001b[0m \u001b[1mto create virtualenv...\u001b[0m\n",
      "\u001b[2K\u001b[32m⠦\u001b[0m Creating virtual environment.....\u001b[36mcreated virtual environment CPython3.10.12.final.0-64 in 999ms\n",
      "  creator CPython3Posix(dest=/home/rbc-laptop/.local/share/virtualenvs/05-wkQcrVJ0, clear=False, no_vcs_ignore=False, global=False)\n",
      "  seeder FromAppData(download=False, pip=bundle, setuptools=bundle, wheel=bundle, via=copy, app_data_dir=/home/rbc-laptop/.local/share/virtualenv)\n",
      "    added seed packages: pip==23.2.1, setuptools==68.2.0, wheel==0.41.2\n",
      "  activators BashActivator,CShellActivator,FishActivator,NushellActivator,PowerShellActivator,PythonActivator\n",
      "\u001b[0m\n",
      "✔ Successfully created virtual environment!\n",
      "\u001b[2K\u001b[32m⠧\u001b[0m Creating virtual environment...\n",
      "\u001b[1A\u001b[2K\u001b[32mVirtualenv location: /home/rbc-laptop/.local/share/virtualenvs/05-wkQcrVJ0\u001b[0m\n",
      "\u001b[1mCreating a Pipfile for this project\u001b[0m\u001b[1;33m...\u001b[0m\n",
      "\u001b[1;32mInstalling scikit-\u001b[0m\u001b[1;33mlearn\u001b[0m\u001b[1;32m==\u001b[0m\u001b[1;36m1.3\u001b[0m\u001b[1;32m.\u001b[0m\u001b[1;36m1\u001b[0m\u001b[1;33m...\u001b[0m\n",
      "\u001b[?25lResolving scikit-\u001b[33mlearn\u001b[0m==\u001b[1;36m1.3\u001b[0m.\u001b[1;36m1\u001b[0m\u001b[33m...\u001b[0m\n",
      "\u001b[2K\u001b[1mAdded \u001b[0m\u001b[1;32mscikit-learn\u001b[0m to Pipfile's \u001b[1;33m[\u001b[0m\u001b[33mpackages\u001b[0m\u001b[1;33m]\u001b[0m \u001b[33m...\u001b[0m\n",
      "\u001b[2K✔ Installation Succeeded-learn...\n",
      "\u001b[2K\u001b[32m⠋\u001b[0m Installing scikit-learn...\n",
      "\u001b[1A\u001b[2K\u001b[1mPipfile.lock not found, creating\u001b[0m\u001b[1;33m...\u001b[0m\n",
      "Locking\u001b[0m \u001b[33m[packages]\u001b[0m dependencies...\u001b[0m\n",
      "\u001b[?25lBuilding requirements\u001b[33m...\u001b[0m\n",
      "\u001b[2KResolving dependencies\u001b[33m...\u001b[0m\n",
      "\u001b[2K✔ Success! Locking...\n",
      "\u001b[2K\u001b[32m⠸\u001b[0m Locking...\n",
      "\u001b[1A\u001b[2KLocking\u001b[0m \u001b[33m[dev-packages]\u001b[0m dependencies...\u001b[0m\n",
      "\u001b[1mUpdated Pipfile.lock (0e0fec5cb0e411bbb2c1c4f81b061609272a25d0c1f780d06dd30aff281bed02)!\u001b[0m\n",
      "\u001b[1mInstalling dependencies from Pipfile.lock \u001b[0m\u001b[1m(\u001b[0m\u001b[1m1bed02\u001b[0m\u001b[1m)\u001b[0m\u001b[1;33m...\u001b[0m\n"
     ]
    }
   ],
   "source": [
    "!pipenv install scikit-learn==1.3.1"
   ]
  },
  {
   "cell_type": "markdown",
   "id": "5cc5640b-c5b2-4f10-bb4f-eac9755ca287",
   "metadata": {},
   "source": [
    "## Question 3"
   ]
  },
  {
   "cell_type": "code",
   "execution_count": 26,
   "id": "508c60f0-22cc-463f-baab-bff8a951801e",
   "metadata": {},
   "outputs": [
    {
     "name": "stdout",
     "output_type": "stream",
     "text": [
      "--2023-10-16 17:22:06--  https://raw.githubusercontent.com/DataTalksClub/machine-learning-zoomcamp/master/cohorts/2023/05-deployment/homework/model1.bin\n",
      "Resolvendo raw.githubusercontent.com (raw.githubusercontent.com)... 185.199.109.133, 185.199.111.133, 185.199.108.133, ...\n",
      "Conectando-se a raw.githubusercontent.com (raw.githubusercontent.com)|185.199.109.133|:443... conectado.\n",
      "A requisição HTTP foi enviada, aguardando resposta... 200 OK\n",
      "Tamanho: 842 [application/octet-stream]\n",
      "Salvando em: ‘model1.bin’\n",
      "\n",
      "model1.bin          100%[===================>]     842  --.-KB/s    em 0s      \n",
      "\n",
      "2023-10-16 17:22:07 (9.80 MB/s) - ‘model1.bin’ salvo [842/842]\n",
      "\n",
      "--2023-10-16 17:22:07--  https://raw.githubusercontent.com/DataTalksClub/machine-learning-zoomcamp/master/cohorts/2023/05-deployment/homework/dv.bin\n",
      "Resolvendo raw.githubusercontent.com (raw.githubusercontent.com)... 185.199.108.133, 185.199.109.133, 185.199.110.133, ...\n",
      "Conectando-se a raw.githubusercontent.com (raw.githubusercontent.com)|185.199.108.133|:443... conectado.\n",
      "A requisição HTTP foi enviada, aguardando resposta... 200 OK\n",
      "Tamanho: 560 [application/octet-stream]\n",
      "Salvando em: ‘dv.bin’\n",
      "\n",
      "dv.bin              100%[===================>]     560  --.-KB/s    em 0s      \n",
      "\n",
      "2023-10-16 17:22:07 (15.3 MB/s) - ‘dv.bin’ salvo [560/560]\n",
      "\n"
     ]
    }
   ],
   "source": [
    "!wget https://raw.githubusercontent.com/DataTalksClub/machine-learning-zoomcamp/master/cohorts/2023/05-deployment/homework/model1.bin\n",
    "!wget https://raw.githubusercontent.com/DataTalksClub/machine-learning-zoomcamp/master/cohorts/2023/05-deployment/homework/dv.bin"
   ]
  },
  {
   "cell_type": "code",
   "execution_count": 27,
   "id": "20761a74-3e5d-4c02-a5c9-bf06cea4f4a2",
   "metadata": {},
   "outputs": [],
   "source": [
    "import pickle"
   ]
  },
  {
   "cell_type": "code",
   "execution_count": 28,
   "id": "05848524-af3c-4ab8-a491-2b78d93d9ce5",
   "metadata": {},
   "outputs": [],
   "source": [
    "with open('dv.bin', 'rb') as f:\n",
    "    dv = pickle.load(f)\n",
    "    f.close()"
   ]
  },
  {
   "cell_type": "code",
   "execution_count": 29,
   "id": "a572ece9-12ad-47d3-a873-d6322d5bb53e",
   "metadata": {},
   "outputs": [],
   "source": [
    "with open('model1.bin', 'rb') as f:\n",
    "    model = pickle.load(f)\n",
    "    f.close()"
   ]
  },
  {
   "cell_type": "code",
   "execution_count": 34,
   "id": "60114d96-2d04-4e6f-a1af-e31a80a7d485",
   "metadata": {},
   "outputs": [
    {
     "name": "stdout",
     "output_type": "stream",
     "text": [
      "Prediction probability: 0.902\n"
     ]
    }
   ],
   "source": [
    "sample = {\"job\": \"retired\", \"duration\": 445, \"poutcome\": \"success\"}\n",
    "\n",
    "X = dv.transform([sample])\n",
    "y_pred = model.predict_proba(X)[0, 1]\n",
    "print(f'Prediction probability: {y_pred:.3f}')"
   ]
  },
  {
   "cell_type": "markdown",
   "id": "dced59ad-3569-400b-8ffc-f064c7843db2",
   "metadata": {},
   "source": [
    "## Question 04"
   ]
  },
  {
   "cell_type": "code",
   "execution_count": 37,
   "id": "4d871a62-fb10-48b3-8f9f-08c07d147e3a",
   "metadata": {},
   "outputs": [],
   "source": [
    "import requests"
   ]
  },
  {
   "cell_type": "code",
   "execution_count": 38,
   "id": "24602127-3f53-4748-bfd9-ccb9b4fa8a35",
   "metadata": {},
   "outputs": [
    {
     "data": {
      "text/plain": [
       "{'probability': 0.13968947052356817}"
      ]
     },
     "execution_count": 38,
     "metadata": {},
     "output_type": "execute_result"
    }
   ],
   "source": [
    "url = 'http://localhost:9696/predict'\n",
    "client = {\"job\": \"unknown\", \"duration\": 270, \"poutcome\": \"failure\"}\n",
    "requests.post(url, json=client).json()"
   ]
  },
  {
   "cell_type": "markdown",
   "id": "871f61f1-15f1-4089-95c2-83ebbbc424ab",
   "metadata": {},
   "source": [
    "## Question 05\n",
    "\n",
    "<img src='docker-size.png'>"
   ]
  },
  {
   "cell_type": "code",
   "execution_count": null,
   "id": "0d6b22bb-c9a3-4509-bbe1-feb6f2ef5745",
   "metadata": {},
   "outputs": [],
   "source": []
  }
 ],
 "metadata": {
  "kernelspec": {
   "display_name": "Python 3 (ipykernel)",
   "language": "python",
   "name": "python3"
  },
  "language_info": {
   "codemirror_mode": {
    "name": "ipython",
    "version": 3
   },
   "file_extension": ".py",
   "mimetype": "text/x-python",
   "name": "python",
   "nbconvert_exporter": "python",
   "pygments_lexer": "ipython3",
   "version": "3.10.12"
  }
 },
 "nbformat": 4,
 "nbformat_minor": 5
}
